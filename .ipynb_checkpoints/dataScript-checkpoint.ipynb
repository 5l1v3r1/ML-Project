{
 "cells": [
  {
   "cell_type": "code",
   "execution_count": 79,
   "metadata": {},
   "outputs": [],
   "source": [
    "import pandas as pd\n",
    "import os\n",
    "import io\n",
    "import random\n",
    "\n",
    "def getDataset():\n",
    "    data = pd.DataFrame()\n",
    "    try:\n",
    "        data = pd.read_csv('dataset.csv',encoding='iso-8859-9')\n",
    "    except:\n",
    "        dataset = []\n",
    "        for Root, Dirs, Files in os.walk(\"3000tweet/raw_texts\"):\n",
    "            for di in Dirs:        \n",
    "                for root, dirs, files in os.walk(f\"3000tweet/raw_texts/{di}\"):            \n",
    "                    for file in files:\n",
    "                        sub_data = []\n",
    "                        with io.open(f\"3000tweet/raw_texts/{di}/\"+file, 'r', encoding='iso-8859-9') as f:\n",
    "                            text = f.read()\n",
    "                            sub_data.append(text)\n",
    "                            sub_data.append(di)\n",
    "                        dataset.append(sub_data)\n",
    "            random.shuffle(dataset)\n",
    "        data = pd.DataFrame(dataset, columns=['Sentence','Sentiment'])\n",
    "        data.to_csv('dataset.csv',index=False,encoding='iso-8859-9')\n",
    "        print(\"No csv file was found!, new file was created :)\")\n",
    "    return data"
   ]
  },
  {
   "cell_type": "code",
   "execution_count": null,
   "metadata": {},
   "outputs": [],
   "source": []
  },
  {
   "cell_type": "code",
   "execution_count": null,
   "metadata": {},
   "outputs": [],
   "source": []
  }
 ],
 "metadata": {
  "kernelspec": {
   "display_name": "Python 3",
   "language": "python",
   "name": "python3"
  },
  "language_info": {
   "codemirror_mode": {
    "name": "ipython",
    "version": 3
   },
   "file_extension": ".py",
   "mimetype": "text/x-python",
   "name": "python",
   "nbconvert_exporter": "python",
   "pygments_lexer": "ipython3",
   "version": "3.7.6"
  }
 },
 "nbformat": 4,
 "nbformat_minor": 4
}
